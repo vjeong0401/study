{
 "cells": [
  {
   "cell_type": "markdown",
   "id": "8062bae1",
   "metadata": {
    "papermill": {
     "duration": 0.005322,
     "end_time": "2025-08-12T05:21:37.618713",
     "exception": false,
     "start_time": "2025-08-12T05:21:37.613391",
     "status": "completed"
    },
    "tags": []
   },
   "source": [
    "**This notebook is an exercise in the [Intro to Programming](https://www.kaggle.com/learn/intro-to-programming) course.  You can reference the tutorial at [this link](https://www.kaggle.com/alexisbcook/data-types).**\n",
    "\n",
    "---\n"
   ]
  },
  {
   "cell_type": "markdown",
   "id": "1f162d22",
   "metadata": {
    "papermill": {
     "duration": 0.004213,
     "end_time": "2025-08-12T05:21:37.627865",
     "exception": false,
     "start_time": "2025-08-12T05:21:37.623652",
     "status": "completed"
    },
    "tags": []
   },
   "source": [
    "In the tutorial, you learned about four different data types: floats, integers, strings, and booleans.  In this exercise, you'll experiment with them.\n",
    "\n",
    "# Set up the notebook\n",
    "\n",
    "Run the next code cell without changes to set up the notebook."
   ]
  },
  {
   "cell_type": "code",
   "execution_count": 1,
   "id": "fb0ec2ea",
   "metadata": {
    "execution": {
     "iopub.execute_input": "2025-08-12T05:21:37.637960Z",
     "iopub.status.busy": "2025-08-12T05:21:37.637571Z",
     "iopub.status.idle": "2025-08-12T05:21:39.481942Z",
     "shell.execute_reply": "2025-08-12T05:21:39.480995Z"
    },
    "papermill": {
     "duration": 1.851233,
     "end_time": "2025-08-12T05:21:39.483417",
     "exception": false,
     "start_time": "2025-08-12T05:21:37.632184",
     "status": "completed"
    },
    "tags": []
   },
   "outputs": [
    {
     "name": "stdout",
     "output_type": "stream",
     "text": [
      "Setup complete.\n"
     ]
    }
   ],
   "source": [
    "# Set up the exercise\n",
    "from learntools.core import binder\n",
    "binder.bind(globals())\n",
    "from learntools.intro_to_programming.ex3 import *\n",
    "print('Setup complete.')"
   ]
  },
  {
   "cell_type": "markdown",
   "id": "d7c5cd29",
   "metadata": {
    "papermill": {
     "duration": 0.004218,
     "end_time": "2025-08-12T05:21:39.492439",
     "exception": false,
     "start_time": "2025-08-12T05:21:39.488221",
     "status": "completed"
    },
    "tags": []
   },
   "source": [
    "# Question 1\n",
    "\n",
    "You have seen how to convert a float to an integer with the `int` function.  Try this out yourself by running the code cell below."
   ]
  },
  {
   "cell_type": "code",
   "execution_count": 2,
   "id": "0a57c76a",
   "metadata": {
    "execution": {
     "iopub.execute_input": "2025-08-12T05:21:39.503058Z",
     "iopub.status.busy": "2025-08-12T05:21:39.502158Z",
     "iopub.status.idle": "2025-08-12T05:21:39.507700Z",
     "shell.execute_reply": "2025-08-12T05:21:39.506872Z"
    },
    "papermill": {
     "duration": 0.012173,
     "end_time": "2025-08-12T05:21:39.508974",
     "exception": false,
     "start_time": "2025-08-12T05:21:39.496801",
     "status": "completed"
    },
    "tags": []
   },
   "outputs": [
    {
     "name": "stdout",
     "output_type": "stream",
     "text": [
      "1.0\n",
      "<class 'float'>\n",
      "1\n",
      "<class 'int'>\n"
     ]
    }
   ],
   "source": [
    "# Define a float\n",
    "y = 1.\n",
    "print(y)\n",
    "print(type(y))\n",
    "\n",
    "# Convert float to integer with the int function\n",
    "z = int(y)\n",
    "print(z)\n",
    "print(type(z))"
   ]
  },
  {
   "cell_type": "markdown",
   "id": "36cab5fb",
   "metadata": {
    "papermill": {
     "duration": 0.004339,
     "end_time": "2025-08-12T05:21:39.518002",
     "exception": false,
     "start_time": "2025-08-12T05:21:39.513663",
     "status": "completed"
    },
    "tags": []
   },
   "source": [
    "In this case, the float you are using has no numbers after the decimal.  \n",
    "- But what happens when you try to convert a float with a fractional part to an integer?  \n",
    "- How does the outcome of the `int` function change for positive and negative numbers?\n",
    "\n",
    "Use the next code cell to investigate and answer these questions.  Feel free to add or remove any lines of code -- it is your workspace!"
   ]
  },
  {
   "cell_type": "code",
   "execution_count": 3,
   "id": "92c998d7",
   "metadata": {
    "execution": {
     "iopub.execute_input": "2025-08-12T05:21:39.529082Z",
     "iopub.status.busy": "2025-08-12T05:21:39.528805Z",
     "iopub.status.idle": "2025-08-12T05:21:39.534021Z",
     "shell.execute_reply": "2025-08-12T05:21:39.533053Z"
    },
    "papermill": {
     "duration": 0.011795,
     "end_time": "2025-08-12T05:21:39.535341",
     "exception": false,
     "start_time": "2025-08-12T05:21:39.523546",
     "status": "completed"
    },
    "tags": []
   },
   "outputs": [
    {
     "name": "stdout",
     "output_type": "stream",
     "text": [
      "1\n",
      "1\n",
      "-3\n",
      "-2\n"
     ]
    }
   ],
   "source": [
    "# Uncomment and run this code to get started!\n",
    "print(int(1.2321))\n",
    "print(int(1.747))\n",
    "print(int(-3.94535))\n",
    "print(int(-2.19774))"
   ]
  },
  {
   "cell_type": "markdown",
   "id": "35dd865c",
   "metadata": {
    "papermill": {
     "duration": 0.004598,
     "end_time": "2025-08-12T05:21:39.544720",
     "exception": false,
     "start_time": "2025-08-12T05:21:39.540122",
     "status": "completed"
    },
    "tags": []
   },
   "source": [
    "Once you have an answer, run the code cell below to see the solution.  Viewing the solution will give you credit for answering the problem."
   ]
  },
  {
   "cell_type": "code",
   "execution_count": 4,
   "id": "027814b7",
   "metadata": {
    "execution": {
     "iopub.execute_input": "2025-08-12T05:21:39.556851Z",
     "iopub.status.busy": "2025-08-12T05:21:39.556188Z",
     "iopub.status.idle": "2025-08-12T05:21:39.563632Z",
     "shell.execute_reply": "2025-08-12T05:21:39.562854Z"
    },
    "papermill": {
     "duration": 0.014446,
     "end_time": "2025-08-12T05:21:39.565008",
     "exception": false,
     "start_time": "2025-08-12T05:21:39.550562",
     "status": "completed"
    },
    "tags": []
   },
   "outputs": [
    {
     "data": {
      "application/javascript": [
       "parent.postMessage({\"jupyterEvent\": \"custom.exercise_interaction\", \"data\": {\"outcomeType\": 1, \"valueTowardsCompletion\": 0.2, \"interactionType\": 1, \"questionType\": 4, \"questionId\": \"1_FloatToInt\", \"learnToolsVersion\": \"0.3.5\", \"failureMessage\": \"\", \"exceptionClass\": \"\", \"trace\": \"\"}}, \"*\")"
      ],
      "text/plain": [
       "<IPython.core.display.Javascript object>"
      ]
     },
     "metadata": {},
     "output_type": "display_data"
    },
    {
     "data": {
      "text/markdown": [
       "<span style=\"color:#33cc33\">Correct:</span> \n",
       "\n",
       "Negative floats are always rounded UP to the closest integer (for instance, both -1.1 and -1.9 are rounded up to -1). Positive floats are always rounded DOWN to the closest integer (for instance, 2.1 and 2.9 are rounded down to 2)."
      ],
      "text/plain": [
       "Correct: \n",
       "\n",
       "Negative floats are always rounded UP to the closest integer (for instance, both -1.1 and -1.9 are rounded up to -1). Positive floats are always rounded DOWN to the closest integer (for instance, 2.1 and 2.9 are rounded down to 2)."
      ]
     },
     "metadata": {},
     "output_type": "display_data"
    }
   ],
   "source": [
    "# Check your answer (Run this code cell to receive credit!)\n",
    "q1.check()"
   ]
  },
  {
   "cell_type": "markdown",
   "id": "4b1e8226",
   "metadata": {
    "papermill": {
     "duration": 0.004592,
     "end_time": "2025-08-12T05:21:39.574640",
     "exception": false,
     "start_time": "2025-08-12T05:21:39.570048",
     "status": "completed"
    },
    "tags": []
   },
   "source": [
    "# Question 2\n",
    "\n",
    "In the tutorial, you learned about booleans (which can take a value of `True` or `False`), in addition to integers, floats, and strings.  For this question, your goal is to determine what happens when you multiply a boolean by any of these data types.  Specifically, \n",
    "- What happens when you multiply an integer or float by `True`?  What happens when you multiply them by `False`?  How does the answer change if the numbers are positive or negative?\n",
    "- What happens when you multiply a string by `True`?  By `False`?\n",
    "\n",
    "Use the next code cell for your investigation. "
   ]
  },
  {
   "cell_type": "code",
   "execution_count": 5,
   "id": "5cd61c8e",
   "metadata": {
    "execution": {
     "iopub.execute_input": "2025-08-12T05:21:39.585570Z",
     "iopub.status.busy": "2025-08-12T05:21:39.585260Z",
     "iopub.status.idle": "2025-08-12T05:21:39.590459Z",
     "shell.execute_reply": "2025-08-12T05:21:39.589460Z"
    },
    "papermill": {
     "duration": 0.012251,
     "end_time": "2025-08-12T05:21:39.591769",
     "exception": false,
     "start_time": "2025-08-12T05:21:39.579518",
     "status": "completed"
    },
    "tags": []
   },
   "outputs": [
    {
     "name": "stdout",
     "output_type": "stream",
     "text": [
      "3\n",
      "-3.1\n",
      "<class 'str'>\n",
      "0\n"
     ]
    }
   ],
   "source": [
    "# Uncomment and run this code to get started!\n",
    "print(3 * True)\n",
    "print(-3.1 * True)\n",
    "print(type(\"abc\" * False))\n",
    "print(len(\"abc\" * False))"
   ]
  },
  {
   "cell_type": "markdown",
   "id": "c6f7ac7d",
   "metadata": {
    "papermill": {
     "duration": 0.004753,
     "end_time": "2025-08-12T05:21:39.601552",
     "exception": false,
     "start_time": "2025-08-12T05:21:39.596799",
     "status": "completed"
    },
    "tags": []
   },
   "source": [
    "Once you have an answer, run the code cell below to see the solution.  Viewing the solution will give you credit for answering the problem."
   ]
  },
  {
   "cell_type": "code",
   "execution_count": 6,
   "id": "9f8787c8",
   "metadata": {
    "execution": {
     "iopub.execute_input": "2025-08-12T05:21:39.612789Z",
     "iopub.status.busy": "2025-08-12T05:21:39.611990Z",
     "iopub.status.idle": "2025-08-12T05:21:39.618829Z",
     "shell.execute_reply": "2025-08-12T05:21:39.617995Z"
    },
    "papermill": {
     "duration": 0.013757,
     "end_time": "2025-08-12T05:21:39.620134",
     "exception": false,
     "start_time": "2025-08-12T05:21:39.606377",
     "status": "completed"
    },
    "tags": []
   },
   "outputs": [
    {
     "data": {
      "application/javascript": [
       "parent.postMessage({\"jupyterEvent\": \"custom.exercise_interaction\", \"data\": {\"outcomeType\": 1, \"valueTowardsCompletion\": 0.2, \"interactionType\": 1, \"questionType\": 4, \"questionId\": \"2_MultiplyBooleans\", \"learnToolsVersion\": \"0.3.5\", \"failureMessage\": \"\", \"exceptionClass\": \"\", \"trace\": \"\"}}, \"*\")"
      ],
      "text/plain": [
       "<IPython.core.display.Javascript object>"
      ]
     },
     "metadata": {},
     "output_type": "display_data"
    },
    {
     "data": {
      "text/markdown": [
       "<span style=\"color:#33cc33\">Correct:</span> \n",
       "\n",
       "When you multiple an integer or float by a boolean with value `True`, it just returns that same integer or float (and is equivalent to multiplying by 1).  If you multiply an integer or float by a boolean with value `False`, it always returns 0.  This is true for both positive and negative numbers.  If you multiply a string by a boolean with value `True`, it just returns that same string.  And if you multiply a string by a boolean with value `False`, it returns an empty string (or a string with length zero)."
      ],
      "text/plain": [
       "Correct: \n",
       "\n",
       "When you multiple an integer or float by a boolean with value `True`, it just returns that same integer or float (and is equivalent to multiplying by 1).  If you multiply an integer or float by a boolean with value `False`, it always returns 0.  This is true for both positive and negative numbers.  If you multiply a string by a boolean with value `True`, it just returns that same string.  And if you multiply a string by a boolean with value `False`, it returns an empty string (or a string with length zero)."
      ]
     },
     "metadata": {},
     "output_type": "display_data"
    }
   ],
   "source": [
    "# Check your answer (Run this code cell to receive credit!)\n",
    "q2.check()"
   ]
  },
  {
   "cell_type": "markdown",
   "id": "1c2b601d",
   "metadata": {
    "papermill": {
     "duration": 0.004876,
     "end_time": "2025-08-12T05:21:39.630342",
     "exception": false,
     "start_time": "2025-08-12T05:21:39.625466",
     "status": "completed"
    },
    "tags": []
   },
   "source": [
    "# Question 3\n",
    "\n",
    "In this question, you will build off your work from the previous exercise to write a function that estimates the value of a house.\n",
    "\n",
    "Use the next code cell to create a function `get_expected_cost` that takes as input three variables:\n",
    "- `beds` - number of bedrooms (data type float)\n",
    "- `baths` - number of bathrooms (data type float)\n",
    "- `has_basement` - whether or not the house has a basement (data type boolean)\n",
    "\n",
    "It should return the expected cost of a house with those characteristics. Assume that:\n",
    "- the expected cost for a house with 0 bedrooms and 0 bathrooms, and no basement is 80000, \n",
    "- each bedroom adds 30000 to the expected cost,\n",
    "- each bathroom adds 10000 to the expected cost, and\n",
    "- a basement adds 40000 to the expected cost.\n",
    "\n",
    "For instance,\n",
    "- a house with 1 bedroom, 1 bathroom, and no basement has an expected cost of 80000 + 30000 + 10000 = 120000.  This value will be calculated with `get_expected_cost(1, 1, False)`.\n",
    "- a house with 2 bedrooms, 1 bathroom, and a basement has an expected cost of 80000 + 2*30000 + 10000 + 40000 = 190000.  This value will be calculated with `get_expected_cost(2, 1, True)`.\n",
    "\n",
    "Remember you can always get a hint by uncommenting `q3.hint()` in the code cell following the next!"
   ]
  },
  {
   "cell_type": "code",
   "execution_count": 7,
   "id": "2fb80fc9",
   "metadata": {
    "execution": {
     "iopub.execute_input": "2025-08-12T05:21:39.641473Z",
     "iopub.status.busy": "2025-08-12T05:21:39.641148Z",
     "iopub.status.idle": "2025-08-12T05:21:39.648816Z",
     "shell.execute_reply": "2025-08-12T05:21:39.648015Z"
    },
    "papermill": {
     "duration": 0.014872,
     "end_time": "2025-08-12T05:21:39.650183",
     "exception": false,
     "start_time": "2025-08-12T05:21:39.635311",
     "status": "completed"
    },
    "tags": []
   },
   "outputs": [
    {
     "data": {
      "application/javascript": [
       "parent.postMessage({\"jupyterEvent\": \"custom.exercise_interaction\", \"data\": {\"outcomeType\": 1, \"valueTowardsCompletion\": 0.2, \"interactionType\": 1, \"questionType\": 2, \"questionId\": \"3_EstimateHouseValueBool\", \"learnToolsVersion\": \"0.3.5\", \"failureMessage\": \"\", \"exceptionClass\": \"\", \"trace\": \"\"}}, \"*\")"
      ],
      "text/plain": [
       "<IPython.core.display.Javascript object>"
      ]
     },
     "metadata": {},
     "output_type": "display_data"
    },
    {
     "data": {
      "text/markdown": [
       "<span style=\"color:#33cc33\">Correct</span>"
      ],
      "text/plain": [
       "Correct"
      ]
     },
     "metadata": {},
     "output_type": "display_data"
    }
   ],
   "source": [
    "# TODO: Complete the function\n",
    "def get_expected_cost(beds, baths, has_basement):\n",
    "    base_cost = 80000\n",
    "    beds_cost = beds * 30000\n",
    "    bath_cost = baths * 10000\n",
    "    basement_cost = has_basement * 40000\n",
    "    value = base_cost + beds_cost + bath_cost + basement_cost\n",
    "    return value\n",
    "\n",
    "# Check your answer \n",
    "q3.check()"
   ]
  },
  {
   "cell_type": "code",
   "execution_count": 8,
   "id": "020b8b1e",
   "metadata": {
    "execution": {
     "iopub.execute_input": "2025-08-12T05:21:39.662290Z",
     "iopub.status.busy": "2025-08-12T05:21:39.661958Z",
     "iopub.status.idle": "2025-08-12T05:21:39.671794Z",
     "shell.execute_reply": "2025-08-12T05:21:39.670928Z"
    },
    "papermill": {
     "duration": 0.017559,
     "end_time": "2025-08-12T05:21:39.673275",
     "exception": false,
     "start_time": "2025-08-12T05:21:39.655716",
     "status": "completed"
    },
    "tags": []
   },
   "outputs": [
    {
     "data": {
      "application/javascript": [
       "parent.postMessage({\"jupyterEvent\": \"custom.exercise_interaction\", \"data\": {\"interactionType\": 2, \"questionType\": 2, \"questionId\": \"3_EstimateHouseValueBool\", \"learnToolsVersion\": \"0.3.5\", \"valueTowardsCompletion\": 0.0, \"failureMessage\": \"\", \"exceptionClass\": \"\", \"trace\": \"\", \"outcomeType\": 4}}, \"*\")"
      ],
      "text/plain": [
       "<IPython.core.display.Javascript object>"
      ]
     },
     "metadata": {},
     "output_type": "display_data"
    },
    {
     "data": {
      "text/markdown": [
       "<span style=\"color:#3366cc\">Hint:</span> The variable `has_basement` is either `True` or `False`.  What happens when you multiply it by 40000 (the value of a basement)?  Refer to the previous question if you are unsure."
      ],
      "text/plain": [
       "Hint: The variable `has_basement` is either `True` or `False`.  What happens when you multiply it by 40000 (the value of a basement)?  Refer to the previous question if you are unsure."
      ]
     },
     "metadata": {},
     "output_type": "display_data"
    },
    {
     "data": {
      "application/javascript": [
       "parent.postMessage({\"jupyterEvent\": \"custom.exercise_interaction\", \"data\": {\"interactionType\": 3, \"questionType\": 2, \"questionId\": \"3_EstimateHouseValueBool\", \"learnToolsVersion\": \"0.3.5\", \"valueTowardsCompletion\": 0.0, \"failureMessage\": \"\", \"exceptionClass\": \"\", \"trace\": \"\", \"outcomeType\": 4}}, \"*\")"
      ],
      "text/plain": [
       "<IPython.core.display.Javascript object>"
      ]
     },
     "metadata": {},
     "output_type": "display_data"
    },
    {
     "data": {
      "text/markdown": [
       "<span style=\"color:#33cc99\">Solution:</span> \n",
       "```python\n",
       "def get_expected_cost(beds, baths, has_basement):\n",
       "    value = 80000 + 30000 * beds + 10000 * baths + 40000 * has_basement\n",
       "    return value\n",
       "\n",
       "```"
      ],
      "text/plain": [
       "Solution: \n",
       "```python\n",
       "def get_expected_cost(beds, baths, has_basement):\n",
       "    value = 80000 + 30000 * beds + 10000 * baths + 40000 * has_basement\n",
       "    return value\n",
       "\n",
       "```"
      ]
     },
     "metadata": {},
     "output_type": "display_data"
    }
   ],
   "source": [
    "# Uncomment to see a hint\n",
    "q3.hint()\n",
    "\n",
    "# Uncomment to view the solution\n",
    "q3.solution()"
   ]
  },
  {
   "cell_type": "markdown",
   "id": "a0782a31",
   "metadata": {
    "papermill": {
     "duration": 0.005559,
     "end_time": "2025-08-12T05:21:39.684641",
     "exception": false,
     "start_time": "2025-08-12T05:21:39.679082",
     "status": "completed"
    },
    "tags": []
   },
   "source": [
    "# Question 4\n",
    "\n",
    "We'll continue our study of boolean arithmetic.  For this question, your task is to provide a description of what happpens when you add booleans. \n",
    "\n",
    "Use the next code cell for your investigation.  Feel free to add or remove any lines of code - use it as your workspace!"
   ]
  },
  {
   "cell_type": "code",
   "execution_count": 9,
   "id": "9cce6fdb",
   "metadata": {
    "execution": {
     "iopub.execute_input": "2025-08-12T05:21:39.697362Z",
     "iopub.status.busy": "2025-08-12T05:21:39.696631Z",
     "iopub.status.idle": "2025-08-12T05:21:39.701827Z",
     "shell.execute_reply": "2025-08-12T05:21:39.700878Z"
    },
    "papermill": {
     "duration": 0.013027,
     "end_time": "2025-08-12T05:21:39.703185",
     "exception": false,
     "start_time": "2025-08-12T05:21:39.690158",
     "status": "completed"
    },
    "tags": []
   },
   "outputs": [
    {
     "name": "stdout",
     "output_type": "stream",
     "text": [
      "0\n",
      "1\n",
      "1\n",
      "2\n",
      "3\n"
     ]
    }
   ],
   "source": [
    "print(False + False)\n",
    "print(True + False)\n",
    "print(False + True)\n",
    "print(True + True)\n",
    "print(False + True + True + True)"
   ]
  },
  {
   "cell_type": "markdown",
   "id": "9e8fda16",
   "metadata": {
    "papermill": {
     "duration": 0.005359,
     "end_time": "2025-08-12T05:21:39.714458",
     "exception": false,
     "start_time": "2025-08-12T05:21:39.709099",
     "status": "completed"
    },
    "tags": []
   },
   "source": [
    "Once you have an answer, run the code cell below to see the solution.  Viewing the solution will give you credit for answering the problem."
   ]
  },
  {
   "cell_type": "code",
   "execution_count": 10,
   "id": "e7bc2bee",
   "metadata": {
    "execution": {
     "iopub.execute_input": "2025-08-12T05:21:39.726962Z",
     "iopub.status.busy": "2025-08-12T05:21:39.726690Z",
     "iopub.status.idle": "2025-08-12T05:21:39.733139Z",
     "shell.execute_reply": "2025-08-12T05:21:39.732454Z"
    },
    "papermill": {
     "duration": 0.014208,
     "end_time": "2025-08-12T05:21:39.734430",
     "exception": false,
     "start_time": "2025-08-12T05:21:39.720222",
     "status": "completed"
    },
    "tags": []
   },
   "outputs": [
    {
     "data": {
      "application/javascript": [
       "parent.postMessage({\"jupyterEvent\": \"custom.exercise_interaction\", \"data\": {\"outcomeType\": 1, \"valueTowardsCompletion\": 0.2, \"interactionType\": 1, \"questionType\": 4, \"questionId\": \"4_AddingBooleans\", \"learnToolsVersion\": \"0.3.5\", \"failureMessage\": \"\", \"exceptionClass\": \"\", \"trace\": \"\"}}, \"*\")"
      ],
      "text/plain": [
       "<IPython.core.display.Javascript object>"
      ]
     },
     "metadata": {},
     "output_type": "display_data"
    },
    {
     "data": {
      "text/markdown": [
       "<span style=\"color:#33cc33\">Correct:</span> \n",
       "\n",
       "When you add booleans, adding `False` is equivalent to adding 0, and adding `True` is equivalent to adding 1."
      ],
      "text/plain": [
       "Correct: \n",
       "\n",
       "When you add booleans, adding `False` is equivalent to adding 0, and adding `True` is equivalent to adding 1."
      ]
     },
     "metadata": {},
     "output_type": "display_data"
    }
   ],
   "source": [
    "# Check your answer (Run this code cell to receive credit!)\n",
    "q4.check()"
   ]
  },
  {
   "cell_type": "markdown",
   "id": "b3c598ba",
   "metadata": {
    "papermill": {
     "duration": 0.005465,
     "end_time": "2025-08-12T05:21:39.745848",
     "exception": false,
     "start_time": "2025-08-12T05:21:39.740383",
     "status": "completed"
    },
    "tags": []
   },
   "source": [
    "# 🌶️ Question 5\n",
    "\n",
    "You own an online shop where you sell rings with custom engravings.  You offer both gold plated and solid gold rings.\n",
    "- Gold plated rings have a base cost of \\\\$50, and you charge \\\\$7 per engraved unit.  \n",
    "- Solid gold rings have a base cost of \\\\$100, and you charge \\\\$10 per engraved unit.\n",
    "- Spaces and punctuation are counted as engraved units.\n",
    "\n",
    "Write a function `cost_of_project()` that takes two arguments:\n",
    "- `engraving` - a Python string with the text of the engraving\n",
    "- `solid_gold` - a Boolean that indicates whether the ring is solid gold\n",
    "\n",
    "It should return the cost of the project.  This question should be fairly challenging, and you may need a hint."
   ]
  },
  {
   "cell_type": "code",
   "execution_count": 11,
   "id": "c3937b26",
   "metadata": {
    "execution": {
     "iopub.execute_input": "2025-08-12T05:21:39.758591Z",
     "iopub.status.busy": "2025-08-12T05:21:39.758080Z",
     "iopub.status.idle": "2025-08-12T05:21:39.765187Z",
     "shell.execute_reply": "2025-08-12T05:21:39.764371Z"
    },
    "papermill": {
     "duration": 0.015114,
     "end_time": "2025-08-12T05:21:39.766667",
     "exception": false,
     "start_time": "2025-08-12T05:21:39.751553",
     "status": "completed"
    },
    "tags": []
   },
   "outputs": [
    {
     "data": {
      "application/javascript": [
       "parent.postMessage({\"jupyterEvent\": \"custom.exercise_interaction\", \"data\": {\"outcomeType\": 1, \"valueTowardsCompletion\": 0.2, \"interactionType\": 1, \"questionType\": 2, \"questionId\": \"5_CustomEngravings\", \"learnToolsVersion\": \"0.3.5\", \"failureMessage\": \"\", \"exceptionClass\": \"\", \"trace\": \"\"}}, \"*\")"
      ],
      "text/plain": [
       "<IPython.core.display.Javascript object>"
      ]
     },
     "metadata": {},
     "output_type": "display_data"
    },
    {
     "data": {
      "text/markdown": [
       "<span style=\"color:#33cc33\">Correct</span>"
      ],
      "text/plain": [
       "Correct"
      ]
     },
     "metadata": {},
     "output_type": "display_data"
    }
   ],
   "source": [
    "def cost_of_project(engraving, solid_gold):\n",
    "    if solid_gold == True:\n",
    "        cost = 100 + len(engraving) * 10\n",
    "    else: \n",
    "        cost = 50 + len(engraving) * 7\n",
    "    return cost\n",
    "\n",
    "# Check your answer\n",
    "q5.check()"
   ]
  },
  {
   "cell_type": "code",
   "execution_count": 12,
   "id": "684c934a",
   "metadata": {
    "execution": {
     "iopub.execute_input": "2025-08-12T05:21:39.780318Z",
     "iopub.status.busy": "2025-08-12T05:21:39.779644Z",
     "iopub.status.idle": "2025-08-12T05:21:39.788923Z",
     "shell.execute_reply": "2025-08-12T05:21:39.788191Z"
    },
    "papermill": {
     "duration": 0.017473,
     "end_time": "2025-08-12T05:21:39.790171",
     "exception": false,
     "start_time": "2025-08-12T05:21:39.772698",
     "status": "completed"
    },
    "tags": []
   },
   "outputs": [
    {
     "data": {
      "application/javascript": [
       "parent.postMessage({\"jupyterEvent\": \"custom.exercise_interaction\", \"data\": {\"interactionType\": 2, \"questionType\": 2, \"questionId\": \"5_CustomEngravings\", \"learnToolsVersion\": \"0.3.5\", \"valueTowardsCompletion\": 0.0, \"failureMessage\": \"\", \"exceptionClass\": \"\", \"trace\": \"\", \"outcomeType\": 4}}, \"*\")"
      ],
      "text/plain": [
       "<IPython.core.display.Javascript object>"
      ]
     },
     "metadata": {},
     "output_type": "display_data"
    },
    {
     "data": {
      "text/markdown": [
       "<span style=\"color:#3366cc\">Hint:</span> There are two options - either the project uses solid gold or does not.  With this in mind, you can structure your solution like this: `cost = solid_gold * ____ + (not solid_gold) * ____`.  You need to figure out how to fill in the blanks. Also, remember that:\n",
       "- If `solid_gold = True`, then `(not solid_gold) = False`, and if `solid_gold = False`, then `(not solid_gold) = True`.\n",
       "- Multiplying an integer by `True` is equivalent to multiplying it by 1, and multiplying an integer by `False` is equivalent to multiplying it by 0."
      ],
      "text/plain": [
       "Hint: There are two options - either the project uses solid gold or does not.  With this in mind, you can structure your solution like this: `cost = solid_gold * ____ + (not solid_gold) * ____`.  You need to figure out how to fill in the blanks. Also, remember that:\n",
       "- If `solid_gold = True`, then `(not solid_gold) = False`, and if `solid_gold = False`, then `(not solid_gold) = True`.\n",
       "- Multiplying an integer by `True` is equivalent to multiplying it by 1, and multiplying an integer by `False` is equivalent to multiplying it by 0."
      ]
     },
     "metadata": {},
     "output_type": "display_data"
    },
    {
     "data": {
      "application/javascript": [
       "parent.postMessage({\"jupyterEvent\": \"custom.exercise_interaction\", \"data\": {\"interactionType\": 3, \"questionType\": 2, \"questionId\": \"5_CustomEngravings\", \"learnToolsVersion\": \"0.3.5\", \"valueTowardsCompletion\": 0.0, \"failureMessage\": \"\", \"exceptionClass\": \"\", \"trace\": \"\", \"outcomeType\": 4}}, \"*\")"
      ],
      "text/plain": [
       "<IPython.core.display.Javascript object>"
      ]
     },
     "metadata": {},
     "output_type": "display_data"
    },
    {
     "data": {
      "text/markdown": [
       "<span style=\"color:#33cc99\">Solution:</span> \n",
       "```python\n",
       "def cost_of_project(engraving, solid_gold):\n",
       "    cost = solid_gold * (100 + 10 * len(engraving)) + (not solid_gold) * (50 + 7 * len(engraving))\n",
       "    return cost\n",
       "\n",
       "```"
      ],
      "text/plain": [
       "Solution: \n",
       "```python\n",
       "def cost_of_project(engraving, solid_gold):\n",
       "    cost = solid_gold * (100 + 10 * len(engraving)) + (not solid_gold) * (50 + 7 * len(engraving))\n",
       "    return cost\n",
       "\n",
       "```"
      ]
     },
     "metadata": {},
     "output_type": "display_data"
    }
   ],
   "source": [
    "# Uncomment to see a hint\n",
    "q5.hint()\n",
    "\n",
    "# Uncomment to view the solution\n",
    "q5.solution()"
   ]
  },
  {
   "cell_type": "markdown",
   "id": "fdc7eaa1",
   "metadata": {
    "papermill": {
     "duration": 0.006102,
     "end_time": "2025-08-12T05:21:39.802691",
     "exception": false,
     "start_time": "2025-08-12T05:21:39.796589",
     "status": "completed"
    },
    "tags": []
   },
   "source": [
    "Run the next code cell to calculate the cost of engraving `Charlie+Denver` on a solid gold ring."
   ]
  },
  {
   "cell_type": "code",
   "execution_count": 13,
   "id": "f85bfb06",
   "metadata": {
    "execution": {
     "iopub.execute_input": "2025-08-12T05:21:39.816970Z",
     "iopub.status.busy": "2025-08-12T05:21:39.816059Z",
     "iopub.status.idle": "2025-08-12T05:21:39.820902Z",
     "shell.execute_reply": "2025-08-12T05:21:39.820044Z"
    },
    "papermill": {
     "duration": 0.013504,
     "end_time": "2025-08-12T05:21:39.822406",
     "exception": false,
     "start_time": "2025-08-12T05:21:39.808902",
     "status": "completed"
    },
    "tags": []
   },
   "outputs": [
    {
     "name": "stdout",
     "output_type": "stream",
     "text": [
      "240\n"
     ]
    }
   ],
   "source": [
    "project_one = cost_of_project(\"Charlie+Denver\", True)\n",
    "print(project_one)"
   ]
  },
  {
   "cell_type": "markdown",
   "id": "ac0d323f",
   "metadata": {
    "papermill": {
     "duration": 0.006586,
     "end_time": "2025-08-12T05:21:39.835889",
     "exception": false,
     "start_time": "2025-08-12T05:21:39.829303",
     "status": "completed"
    },
    "tags": []
   },
   "source": [
    "Use the next code cell to calculate the cost of engraving `08/10/2000` on a gold plated ring."
   ]
  },
  {
   "cell_type": "code",
   "execution_count": 14,
   "id": "bcdeb9df",
   "metadata": {
    "execution": {
     "iopub.execute_input": "2025-08-12T05:21:39.851039Z",
     "iopub.status.busy": "2025-08-12T05:21:39.850169Z",
     "iopub.status.idle": "2025-08-12T05:21:39.855086Z",
     "shell.execute_reply": "2025-08-12T05:21:39.854152Z"
    },
    "papermill": {
     "duration": 0.013747,
     "end_time": "2025-08-12T05:21:39.856349",
     "exception": false,
     "start_time": "2025-08-12T05:21:39.842602",
     "status": "completed"
    },
    "tags": []
   },
   "outputs": [
    {
     "name": "stdout",
     "output_type": "stream",
     "text": [
      "120\n"
     ]
    }
   ],
   "source": [
    "project_two = cost_of_project(\"08/10/2000\", False)\n",
    "print(project_two)"
   ]
  },
  {
   "cell_type": "markdown",
   "id": "a42cd99c",
   "metadata": {
    "papermill": {
     "duration": 0.006152,
     "end_time": "2025-08-12T05:21:39.868978",
     "exception": false,
     "start_time": "2025-08-12T05:21:39.862826",
     "status": "completed"
    },
    "tags": []
   },
   "source": [
    "# Keep going\n",
    "\n",
    "Continue to the next lesson to **[learn about conditions and conditional statements](https://www.kaggle.com/alexisbcook/conditions-and-conditional-statements)**."
   ]
  },
  {
   "cell_type": "markdown",
   "id": "25976ba6",
   "metadata": {
    "papermill": {
     "duration": 0.006131,
     "end_time": "2025-08-12T05:21:39.881595",
     "exception": false,
     "start_time": "2025-08-12T05:21:39.875464",
     "status": "completed"
    },
    "tags": []
   },
   "source": [
    "---\n",
    "\n",
    "\n",
    "\n",
    "\n",
    "*Have questions or comments? Visit the [course discussion forum](https://www.kaggle.com/learn/intro-to-programming/discussion) to chat with other learners.*"
   ]
  }
 ],
 "metadata": {
  "kaggle": {
   "accelerator": "none",
   "dataSources": [],
   "isGpuEnabled": false,
   "isInternetEnabled": false,
   "language": "python",
   "sourceType": "notebook"
  },
  "kernelspec": {
   "display_name": "Python 3",
   "language": "python",
   "name": "python3"
  },
  "language_info": {
   "codemirror_mode": {
    "name": "ipython",
    "version": 3
   },
   "file_extension": ".py",
   "mimetype": "text/x-python",
   "name": "python",
   "nbconvert_exporter": "python",
   "pygments_lexer": "ipython3",
   "version": "3.11.13"
  },
  "papermill": {
   "default_parameters": {},
   "duration": 7.418033,
   "end_time": "2025-08-12T05:21:40.407917",
   "environment_variables": {},
   "exception": null,
   "input_path": "__notebook__.ipynb",
   "output_path": "__notebook__.ipynb",
   "parameters": {},
   "start_time": "2025-08-12T05:21:32.989884",
   "version": "2.3.3"
  }
 },
 "nbformat": 4,
 "nbformat_minor": 5
}
